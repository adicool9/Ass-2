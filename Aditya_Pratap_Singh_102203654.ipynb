{
  "nbformat": 4,
  "nbformat_minor": 0,
  "metadata": {
    "colab": {
      "provenance": [],
      "gpuType": "T4"
    },
    "kernelspec": {
      "name": "python3",
      "display_name": "Python 3"
    },
    "language_info": {
      "name": "python"
    },
    "accelerator": "GPU"
  },
  "cells": [
    {
      "cell_type": "code",
      "execution_count": 1,
      "metadata": {
        "colab": {
          "base_uri": "https://localhost:8080/"
        },
        "id": "81XN6bzRqGR3",
        "outputId": "cfcb9596-fab8-464c-f628-fe7e59c2d2c3"
      },
      "outputs": [
        {
          "output_type": "stream",
          "name": "stderr",
          "text": [
            "/usr/local/lib/python3.11/dist-packages/sklearn/linear_model/_logistic.py:465: ConvergenceWarning: lbfgs failed to converge (status=1):\n",
            "STOP: TOTAL NO. of ITERATIONS REACHED LIMIT.\n",
            "\n",
            "Increase the number of iterations (max_iter) or scale the data as shown in:\n",
            "    https://scikit-learn.org/stable/modules/preprocessing.html\n",
            "Please also refer to the documentation for alternative solver options:\n",
            "    https://scikit-learn.org/stable/modules/linear_model.html#logistic-regression\n",
            "  n_iter_i = _check_optimize_result(\n",
            "/usr/local/lib/python3.11/dist-packages/sklearn/linear_model/_logistic.py:465: ConvergenceWarning: lbfgs failed to converge (status=1):\n",
            "STOP: TOTAL NO. of ITERATIONS REACHED LIMIT.\n",
            "\n",
            "Increase the number of iterations (max_iter) or scale the data as shown in:\n",
            "    https://scikit-learn.org/stable/modules/preprocessing.html\n",
            "Please also refer to the documentation for alternative solver options:\n",
            "    https://scikit-learn.org/stable/modules/linear_model.html#logistic-regression\n",
            "  n_iter_i = _check_optimize_result(\n",
            "/usr/local/lib/python3.11/dist-packages/sklearn/linear_model/_logistic.py:465: ConvergenceWarning: lbfgs failed to converge (status=1):\n",
            "STOP: TOTAL NO. of ITERATIONS REACHED LIMIT.\n",
            "\n",
            "Increase the number of iterations (max_iter) or scale the data as shown in:\n",
            "    https://scikit-learn.org/stable/modules/preprocessing.html\n",
            "Please also refer to the documentation for alternative solver options:\n",
            "    https://scikit-learn.org/stable/modules/linear_model.html#logistic-regression\n",
            "  n_iter_i = _check_optimize_result(\n"
          ]
        },
        {
          "output_type": "stream",
          "name": "stdout",
          "text": [
            "Results for RandomOverSampler:\n",
            "  RandomForest: 1.00\n",
            "  SVM: 0.72\n",
            "  LogisticRegression: 0.91\n",
            "\n",
            "Results for RandomUnderSampler:\n",
            "  RandomForest: 0.33\n",
            "  SVM: 0.17\n",
            "  LogisticRegression: 0.67\n",
            "\n",
            "Results for SMOTE:\n",
            "  RandomForest: 0.99\n",
            "  SVM: 0.71\n",
            "  LogisticRegression: 0.92\n",
            "\n",
            "Results for SMOTEENN:\n",
            "  RandomForest: 1.00\n",
            "  SVM: 0.79\n",
            "  LogisticRegression: 0.97\n",
            "\n",
            "Results for SMOTETomek:\n",
            "  RandomForest: 1.00\n",
            "  SVM: 0.67\n",
            "  LogisticRegression: 0.90\n",
            "\n"
          ]
        },
        {
          "output_type": "stream",
          "name": "stderr",
          "text": [
            "/usr/local/lib/python3.11/dist-packages/sklearn/linear_model/_logistic.py:465: ConvergenceWarning: lbfgs failed to converge (status=1):\n",
            "STOP: TOTAL NO. of ITERATIONS REACHED LIMIT.\n",
            "\n",
            "Increase the number of iterations (max_iter) or scale the data as shown in:\n",
            "    https://scikit-learn.org/stable/modules/preprocessing.html\n",
            "Please also refer to the documentation for alternative solver options:\n",
            "    https://scikit-learn.org/stable/modules/linear_model.html#logistic-regression\n",
            "  n_iter_i = _check_optimize_result(\n"
          ]
        }
      ],
      "source": [
        "import pandas as pd\n",
        "from sklearn.model_selection import train_test_split\n",
        "from sklearn.ensemble import RandomForestClassifier\n",
        "from sklearn.svm import SVC\n",
        "from sklearn.linear_model import LogisticRegression\n",
        "from sklearn.metrics import accuracy_score\n",
        "from imblearn.over_sampling import RandomOverSampler\n",
        "from imblearn.under_sampling import RandomUnderSampler\n",
        "from imblearn.combine import SMOTEENN, SMOTETomek\n",
        "from imblearn.over_sampling import SMOTE\n",
        "\n",
        "# Load the dataset\n",
        "data_url = \"Creditcard_data.csv\"\n",
        "data = pd.read_csv(data_url)\n",
        "\n",
        "# Assume the dataset has 'Class' as target column, adjust as needed\n",
        "X = data.drop(\"Class\", axis=1)\n",
        "y = data[\"Class\"]\n",
        "\n",
        "# Balance the dataset using various techniques\n",
        "samplers = {\n",
        "    \"RandomOverSampler\": RandomOverSampler(),\n",
        "    \"RandomUnderSampler\": RandomUnderSampler(),\n",
        "    \"SMOTE\": SMOTE(),\n",
        "    \"SMOTEENN\": SMOTEENN(),\n",
        "    \"SMOTETomek\": SMOTETomek()\n",
        "}\n",
        "\n",
        "# Models to evaluate\n",
        "models = {\n",
        "    \"RandomForest\": RandomForestClassifier(),\n",
        "    \"SVM\": SVC(),\n",
        "    \"LogisticRegression\": LogisticRegression()\n",
        "}\n",
        "\n",
        "results = {}\n",
        "\n",
        "for sampler_name, sampler in samplers.items():\n",
        "    # Apply the sampler\n",
        "    X_resampled, y_resampled = sampler.fit_resample(X, y)\n",
        "\n",
        "    # Split the resampled dataset\n",
        "    X_train, X_test, y_train, y_test = train_test_split(X_resampled, y_resampled, test_size=0.3, random_state=42)\n",
        "\n",
        "    results[sampler_name] = {}\n",
        "\n",
        "    for model_name, model in models.items():\n",
        "        # Train the model\n",
        "        model.fit(X_train, y_train)\n",
        "\n",
        "        # Predict and evaluate\n",
        "        y_pred = model.predict(X_test)\n",
        "        accuracy = accuracy_score(y_test, y_pred)\n",
        "        results[sampler_name][model_name] = accuracy\n",
        "\n",
        "# Display the results\n",
        "for sampler_name, model_results in results.items():\n",
        "    print(f\"Results for {sampler_name}:\")\n",
        "    for model_name, accuracy in model_results.items():\n",
        "        print(f\"  {model_name}: {accuracy:.2f}\")\n",
        "    print()\n"
      ]
    }
  ]
}